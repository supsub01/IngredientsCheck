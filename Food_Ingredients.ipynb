{
 "cells": [
  {
   "cell_type": "code",
   "execution_count": 6,
   "metadata": {},
   "outputs": [
    {
     "name": "stdout",
     "output_type": "stream",
     "text": [
      "Requirement already satisfied: selenium in c:\\users\\supri\\anaconda3\\lib\\site-packages (3.141.0)\n",
      "Requirement already satisfied: urllib3 in c:\\users\\supri\\anaconda3\\lib\\site-packages (from selenium) (1.24.2)\n"
     ]
    }
   ],
   "source": [
    "# Install a pip package in the current Jupyter kernel\n",
    "import sys\n",
    "!{sys.executable} -m pip install selenium"
   ]
  },
  {
   "cell_type": "code",
   "execution_count": 7,
   "metadata": {},
   "outputs": [
    {
     "name": "stdout",
     "output_type": "stream",
     "text": [
      "Requirement already satisfied: webdriver-manager in c:\\users\\supri\\anaconda3\\lib\\site-packages (3.2.2)\n",
      "Requirement already satisfied: requests in c:\\users\\supri\\anaconda3\\lib\\site-packages (from webdriver-manager) (2.22.0)\n",
      "Requirement already satisfied: crayons in c:\\users\\supri\\anaconda3\\lib\\site-packages (from webdriver-manager) (0.4.0)\n",
      "Requirement already satisfied: configparser in c:\\users\\supri\\anaconda3\\lib\\site-packages (from webdriver-manager) (5.0.0)\n",
      "Requirement already satisfied: urllib3!=1.25.0,!=1.25.1,<1.26,>=1.21.1 in c:\\users\\supri\\anaconda3\\lib\\site-packages (from requests->webdriver-manager) (1.24.2)\n",
      "Requirement already satisfied: chardet<3.1.0,>=3.0.2 in c:\\users\\supri\\anaconda3\\lib\\site-packages (from requests->webdriver-manager) (3.0.4)\n",
      "Requirement already satisfied: idna<2.9,>=2.5 in c:\\users\\supri\\anaconda3\\lib\\site-packages (from requests->webdriver-manager) (2.8)\n",
      "Requirement already satisfied: certifi>=2017.4.17 in c:\\users\\supri\\anaconda3\\lib\\site-packages (from requests->webdriver-manager) (2019.9.11)\n",
      "Requirement already satisfied: colorama in c:\\users\\supri\\anaconda3\\lib\\site-packages (from crayons->webdriver-manager) (0.4.1)\n",
      "Note: you may need to restart the kernel to use updated packages.\n"
     ]
    }
   ],
   "source": [
    "pip install webdriver-manager"
   ]
  },
  {
   "cell_type": "code",
   "execution_count": 3,
   "metadata": {},
   "outputs": [],
   "source": [
    "from selenium import webdriver\n",
    "from selenium.webdriver.support.ui import WebDriverWait\n",
    "from selenium.webdriver.support import expected_conditions as EC\n",
    "import re"
   ]
  },
  {
   "cell_type": "code",
   "execution_count": 25,
   "metadata": {},
   "outputs": [],
   "source": [
    "def getFoodIngredients(food, ing):\n",
    "    \n",
    "    options = webdriver.ChromeOptions()\n",
    "    options.add_argument('headless')\n",
    "    browser = webdriver.Chrome(r'C:\\Users\\supri\\OneDrive\\Desktop\\AutomatingTheBoringStuff\\chromedriver.exe',options=options)\n",
    "    browser.get('https://www.fooducate.com/')\n",
    "    \n",
    "    SearchElem=browser.find_element_by_css_selector('#header > nav > div > form > div > input')\n",
    "    SubmitElem=browser.find_element_by_css_selector('#header > nav > div > form > div > button')\n",
    "    SearchElem.send_keys(food)\n",
    "    SubmitElem.click()\n",
    "        \n",
    "    browser.implicitly_wait(5)\n",
    "    \n",
    "    i=1\n",
    "    CommentSelector=''\n",
    "    MaxComments=0\n",
    "    ProdIndex=0\n",
    "    \n",
    "    while i<5:\n",
    "        CommentSelector=f'#search-page > div > div > div.panel-body > div > div > ul > li:nth-child({i}) > div > div.details-col > div.bottom-row.row > div.comments-col.col-sm-2.col-xs-3 > span'\n",
    "        CommentElem=browser.find_element_by_css_selector(CommentSelector)\n",
    "        NumComments=int(CommentElem.text)\n",
    "        if NumComments > MaxComments:\n",
    "            MaxComments=NumComments\n",
    "            ProdIndex=i\n",
    "        i=i+1\n",
    "\n",
    "    ProductElem=browser.find_element_by_css_selector(f'#search-page > div > div > div.panel-body > div > div > ul > li:nth-child({ProdIndex}) > div').click()\n",
    "    IngredientsPara=browser.find_element_by_css_selector('#product-page > div > div.row > div.col-md-8 > div.ingredients.panel.panel-default > div.panel-body > p').text\n",
    "    \n",
    "    Ingredients=IngredientsPara.lower().split(',')\n",
    "    CheckIngredients=ing.lower().split(',')\n",
    "    \n",
    "    print(\"These Ingredients maybe problematic\")\n",
    "    for word in Ingredients:\n",
    "        for checkIng in CheckIngredients:\n",
    "            if(re.search(checkIng,word)):\n",
    "                print(word,\",\")\n",
    "                break\n"
   ]
  },
  {
   "cell_type": "code",
   "execution_count": 28,
   "metadata": {},
   "outputs": [
    {
     "name": "stdout",
     "output_type": "stream",
     "text": [
      "These Ingredients seem problematic\n",
      "organic coconut milk ,\n",
      "None\n"
     ]
    }
   ],
   "source": [
    "food=\"NadaMoo Organic Mint Chip Frozen Dessert\"\n",
    "ingredient=\"vitamin, mineral, milk\"\n",
    "print(getFoodIngredients(food, ingredient.lower()))"
   ]
  },
  {
   "cell_type": "code",
   "execution_count": null,
   "metadata": {},
   "outputs": [],
   "source": []
  }
 ],
 "metadata": {
  "kernelspec": {
   "display_name": "Python 3",
   "language": "python",
   "name": "python3"
  },
  "language_info": {
   "codemirror_mode": {
    "name": "ipython",
    "version": 3
   },
   "file_extension": ".py",
   "mimetype": "text/x-python",
   "name": "python",
   "nbconvert_exporter": "python",
   "pygments_lexer": "ipython3",
   "version": "3.7.4"
  }
 },
 "nbformat": 4,
 "nbformat_minor": 2
}
