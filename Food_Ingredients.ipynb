{
 "cells": [
  {
   "cell_type": "code",
   "execution_count": null,
   "metadata": {},
   "outputs": [],
   "source": [
    "# Install a pip package in the current Jupyter kernel\n",
    "import sys\n",
    "!{sys.executable} -m pip install selenium"
   ]
  },
  {
   "cell_type": "code",
   "execution_count": null,
   "metadata": {},
   "outputs": [],
   "source": [
    "pip install webdriver-manager"
   ]
  },
  {
   "cell_type": "code",
   "execution_count": 13,
   "metadata": {},
   "outputs": [],
   "source": [
    "from selenium import webdriver\n",
    "from selenium.common.exceptions import NoSuchElementException",
    "import re"
   ]
  },
  {
   "cell_type": "code",
   "execution_count": 28,
   "metadata": {},
   "outputs": [],
   "source": [
    "def getFoodIngredients(food, ing):\n",
    "    \n",
    "    #Initialising Chrome Webdriver for Selenium\n",
    "    options = webdriver.ChromeOptions()\n",
    "    options.add_argument('headless')\n",
    "    browser = webdriver.Chrome(r'C:\\Users\\supri\\OneDrive\\Desktop\\AutomatingTheBoringStuff\\chromedriver.exe',options=options)\n",
    "    \n",
    "    #Get target URL\n",
    "    browser.get('https://www.fooducate.com/')\n",
    "    \n",
    "    #Enter and Submit Search Input (Product)\n",
    "    SearchElem=browser.find_element_by_css_selector('#header > nav > div > form > div > input')\n",
    "    SubmitElem=browser.find_element_by_css_selector('#header > nav > div > form > div > button')\n",
    "    SearchElem.send_keys(food)\n",
    "    SubmitElem.click()\n",
    "        \n",
    "    browser.implicitly_wait(5)\n",
    "    \n",
    "    #Get most popular listing among top 5 listings on the basis of number of comments\n",
    "    MaxComments=0\n",
    "    ProdIndex=1\n",
    "   \n",
    "    i=1\n",
    "    while i<5:\n",
    "        \n",
    "        CommentSelector=f'#search-page > div > div > div.panel-body > div > div > ul > li:nth-child({i}) > div > div.details-col > div.bottom-row.row > div.comments-col.col-sm-2.col-xs-3 > span'\n",
    "        \n",
    "        try:\n",
    "            CommentElem= browser.find_element_by_css_selector(CommentSelector)\n",
    "        except NoSuchElementException:\n",
    "            if i==1:\n",
    "                print(\"Can't find product details, Sorry!\")\n",
    "                return;\n",
    "            else:\n",
    "                break\n",
    "                \n",
    "        NumComments=int(CommentElem.text)\n",
    "        if NumComments > MaxComments:\n",
    "            MaxComments=NumComments\n",
    "            ProdIndex=i\n",
    "        i=i+1\n",
    "  \n",
    "       \n",
    "    #Select the listing and extract ingredients\n",
    "    ProductElem=browser.find_element_by_css_selector(f'#search-page > div > div > div.panel-body > div > div > ul > li:nth-child({ProdIndex}) > div').click()\n",
    "    IngredientsPara=browser.find_element_by_css_selector('#product-page > div > div.row > div.col-md-8 > div.ingredients.panel.panel-default > div.panel-body > p').text\n",
    "    \n",
    "    #Check and output ingredients that match input List of Ingredients\n",
    "    Ingredients=IngredientsPara.lower().split(',')\n",
    "    CheckIngredients=ing.lower().split(',')\n",
    "    \n",
    "    print(\"These Ingredients maybe problematic:\")\n",
    "    for word in Ingredients:\n",
    "        for checkIng in CheckIngredients:\n",
    "            if(re.search(checkIng,word)):\n",
    "                print(word)\n",
    "                break\n",
    "                print(\",\")\n",
    "    return;\n"
   ]
  },
  {
   "cell_type": "code",
   "execution_count": 30,
   "metadata": {},
   "outputs": [
    {
     "name": "stdout",
     "output_type": "stream",
     "text": [
      "These Ingredients maybe problematic:\n",
      " eggs\n",
      "None\n"
     ]
    }
   ],
   "source": [
    "food=\"Kelloggs Eggo Frozen Pancakes\"\n",
    "ingredient=\"egg, milk, whey, fish\"\n",
    "print(getFoodIngredients(food, ingredient.lower()))"
   ]
  }
 ],
 "metadata": {
  "kernelspec": {
   "display_name": "Python 3",
   "language": "python",
   "name": "python3"
  },
  "language_info": {
   "codemirror_mode": {
    "name": "ipython",
    "version": 3
   },
   "file_extension": ".py",
   "mimetype": "text/x-python",
   "name": "python",
   "nbconvert_exporter": "python",
   "pygments_lexer": "ipython3",
   "version": "3.7.4"
  }
 },
 "nbformat": 4,
 "nbformat_minor": 2
}
